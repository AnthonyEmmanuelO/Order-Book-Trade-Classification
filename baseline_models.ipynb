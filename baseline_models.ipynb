{
 "cells": [
  {
   "cell_type": "code",
   "execution_count": 13,
   "metadata": {},
   "outputs": [],
   "source": [
    "import matplotlib.pyplot as plt\n",
    "plt.rcParams[\"figure.figsize\"] = (11,6)\n",
    "import pandas as pd\n",
    "pd.set_option('display.max_columns', 50)\n",
    "\n",
    "import category_encoders as ce\n",
    "from datetime import datetime, timedelta\n",
    "\n",
    "from sklearn.neighbors import KNeighborsClassifier\n",
    "from sklearn.linear_model import LogisticRegression\n",
    "from sklearn.tree import DecisionTreeClassifier\n",
    "from sklearn.ensemble import RandomForestClassifier\n",
    "from sklearn import svm\n",
    "from sklearn.svm import SVC\n",
    "\n",
    "from sklearn.metrics import confusion_matrix\n",
    "from sklearn.metrics import classification_report\n",
    "from sklearn.model_selection import cross_validate\n",
    "from sklearn.model_selection import cross_val_predict\n",
    "from sklearn.metrics import roc_curve\n",
    "from sklearn.metrics import roc_auc_score\n",
    "from sklearn.model_selection import GridSearchCV\n",
    "from sklearn.metrics import make_scorer, fbeta_score"
   ]
  },
  {
   "cell_type": "code",
   "execution_count": 2,
   "metadata": {},
   "outputs": [],
   "source": [
    "df = pd.read_csv('data.csv')\n",
    "# display(df.describe())\n",
    "# display(df.head())"
   ]
  },
  {
   "cell_type": "markdown",
   "metadata": {},
   "source": [
    "### Class Proportions (Response = 'ordersuccess')"
   ]
  },
  {
   "cell_type": "code",
   "execution_count": 3,
   "metadata": {},
   "outputs": [
    {
     "name": "stdout",
     "output_type": "stream",
     "text": [
      "Number of order successes:  28190\n",
      "Proportion of order successes:  0.05021044213331149\n",
      "Number of order failures:  533247\n",
      "Proportion of order failures:  0.9497895578666885\n"
     ]
    }
   ],
   "source": [
    "success = df[df['ordersuccess']==1]\n",
    "fail = df[df['ordersuccess']==0]\n",
    "\n",
    "success_num = len(success)\n",
    "fail_num = len(fail)\n",
    "total = len(df)\n",
    "\n",
    "print('Number of order successes: ', success_num)\n",
    "print('Proportion of order successes: ', success_num / (success_num + fail_num))\n",
    "print('Number of order failures: ', fail_num)\n",
    "print('Proportion of order failures: ', fail_num / (success_num + fail_num))"
   ]
  },
  {
   "cell_type": "markdown",
   "metadata": {},
   "source": [
    "### Null Values"
   ]
  },
  {
   "cell_type": "code",
   "execution_count": 4,
   "metadata": {},
   "outputs": [],
   "source": [
    "# countNaN = len(df) - df.count() #count of NaN values = count of all values (len(df)) - count of non-NaN values (df.count)\n",
    "# display(countNaN)"
   ]
  },
  {
   "cell_type": "markdown",
   "metadata": {},
   "source": [
    "## Preprocessing"
   ]
  },
  {
   "cell_type": "code",
   "execution_count": 4,
   "metadata": {},
   "outputs": [
    {
     "name": "stderr",
     "output_type": "stream",
     "text": [
      "C:\\Anaconda\\lib\\site-packages\\ipykernel_launcher.py:26: FutureWarning: Method .as_matrix will be removed in a future version. Use .values instead.\n",
      "C:\\Anaconda\\lib\\site-packages\\ipykernel_launcher.py:32: FutureWarning: Method .as_matrix will be removed in a future version. Use .values instead.\n"
     ]
    }
   ],
   "source": [
    "def getTimeMS(t):\n",
    "    if '.' in t:\n",
    "        timestamp, ms = t.split('.')\n",
    "    else:\n",
    "        timestamp = t\n",
    "        ms = 0\n",
    "    time_obj = datetime.strptime(timestamp, '%H:%M:%S')\n",
    "    epoch = datetime(1900, 1, 1, 0, 0, 0, 0)\n",
    "    milliseconds = (time_obj - epoch) // timedelta(milliseconds=1)\n",
    "    return milliseconds + float(ms)*1000\n",
    "\n",
    "df['time_ms'] = df['starttime'].apply(lambda x: getTimeMS(x))\n",
    "\n",
    "\n",
    "#continuous features\n",
    "cont_features = df.loc[:,['time_ms','size','minexecqty','limitprice','prevailbid','prevailask','prevailbidsize','prevailasksize',\n",
    "                          'dispatcherrebalance','lotsize','averagespread','misavgbidsize1min','misavgasksize1min', \n",
    "                          'misavgspread1min', 'misoddlotvolume1min', 'misadfvolume1min','misvolume1min']]\n",
    "\n",
    "#one-hot encoded features\n",
    "dummies = pd.get_dummies(df.loc[:,['side','venuetype','securitycategory', 'peginstruction',\n",
    "                                   'sector','mktcap']].astype('category'),drop_first=True)\n",
    "\n",
    "#binary encoded features\n",
    "enc = ce.BinaryEncoder()\n",
    "binary_sym = enc.fit_transform(df.loc[:,'symbol'].as_matrix())\n",
    "names = {'0_0':'symbol_0', '0_1':'symbol_1','0_2':'symbol_2','0_3':'symbol_3','0_4':'symbol_4',\n",
    "         '0_5':'symbol_5','0_6':'symbol_6','0_7':'symbol_7','0_8':'symbol_8','0_9':'symbol_9',\n",
    "         '0_10':'symbol_10','0_11':'symbol_11','0_12':'symbol_12'}\n",
    "binary_sym = binary_sym.rename(columns=names)\n",
    "\n",
    "binary_venue = enc.fit_transform(df.loc[:,'venue'].as_matrix())\n",
    "names = {'0_0':'venue_0', '0_1':'venue_1','0_2':'venue_2',\n",
    "         '0_3':'venue_3','0_4':'venue_4','0_5':'venue_5','0_6':'venue_6'}\n",
    "binary_venue = binary_venue.rename(columns=names)\n",
    "\n",
    "adv20d = df.loc[:,'adv20d'].fillna(0)\n",
    "\n",
    "features = pd.concat([adv20d, cont_features, dummies, binary_sym, binary_venue], axis=1)\n",
    "\n",
    "response = df.loc[:,'ordersuccess']\n",
    "\n",
    "df = pd.concat([features,response],axis=1)"
   ]
  },
  {
   "cell_type": "markdown",
   "metadata": {},
   "source": [
    "## Train / Test Split"
   ]
  },
  {
   "cell_type": "code",
   "execution_count": 5,
   "metadata": {},
   "outputs": [],
   "source": [
    "df = df.sample(frac=1)\n",
    "train = df.head(round(total*.70))\n",
    "train = train.reset_index(drop=True)\n",
    "test = df.tail(round(total*.30))\n",
    "test = test.reset_index(drop=True)\n",
    "\n",
    "train_success = train[train['ordersuccess']==1]\n",
    "train_fail = train[train['ordersuccess']==0]\n",
    "\n",
    "test_success = test[test['ordersuccess']==1]\n",
    "test_fail = test[test['ordersuccess']==0]"
   ]
  },
  {
   "cell_type": "markdown",
   "metadata": {},
   "source": [
    "## Downsampling"
   ]
  },
  {
   "cell_type": "code",
   "execution_count": 6,
   "metadata": {},
   "outputs": [
    {
     "data": {
      "text/html": [
       "<div>\n",
       "<style scoped>\n",
       "    .dataframe tbody tr th:only-of-type {\n",
       "        vertical-align: middle;\n",
       "    }\n",
       "\n",
       "    .dataframe tbody tr th {\n",
       "        vertical-align: top;\n",
       "    }\n",
       "\n",
       "    .dataframe thead th {\n",
       "        text-align: right;\n",
       "    }\n",
       "</style>\n",
       "<table border=\"1\" class=\"dataframe\">\n",
       "  <thead>\n",
       "    <tr style=\"text-align: right;\">\n",
       "      <th></th>\n",
       "      <th>adv20d</th>\n",
       "      <th>time_ms</th>\n",
       "      <th>size</th>\n",
       "      <th>minexecqty</th>\n",
       "      <th>limitprice</th>\n",
       "      <th>prevailbid</th>\n",
       "      <th>prevailask</th>\n",
       "      <th>prevailbidsize</th>\n",
       "      <th>prevailasksize</th>\n",
       "      <th>dispatcherrebalance</th>\n",
       "      <th>lotsize</th>\n",
       "      <th>averagespread</th>\n",
       "      <th>misavgbidsize1min</th>\n",
       "      <th>misavgasksize1min</th>\n",
       "      <th>misavgspread1min</th>\n",
       "      <th>misoddlotvolume1min</th>\n",
       "      <th>misadfvolume1min</th>\n",
       "      <th>misvolume1min</th>\n",
       "      <th>side_Sell</th>\n",
       "      <th>venuetype_Dark</th>\n",
       "      <th>venuetype_Gray</th>\n",
       "      <th>venuetype_Single-Dealer</th>\n",
       "      <th>securitycategory_COMMON</th>\n",
       "      <th>securitycategory_ETF</th>\n",
       "      <th>securitycategory_FUND</th>\n",
       "      <th>...</th>\n",
       "      <th>sector_Test</th>\n",
       "      <th>sector_Utilities</th>\n",
       "      <th>mktcap_MID</th>\n",
       "      <th>mktcap_SMALL</th>\n",
       "      <th>symbol_0</th>\n",
       "      <th>symbol_1</th>\n",
       "      <th>symbol_2</th>\n",
       "      <th>symbol_3</th>\n",
       "      <th>symbol_4</th>\n",
       "      <th>symbol_5</th>\n",
       "      <th>symbol_6</th>\n",
       "      <th>symbol_7</th>\n",
       "      <th>symbol_8</th>\n",
       "      <th>symbol_9</th>\n",
       "      <th>symbol_10</th>\n",
       "      <th>symbol_11</th>\n",
       "      <th>symbol_12</th>\n",
       "      <th>venue_0</th>\n",
       "      <th>venue_1</th>\n",
       "      <th>venue_2</th>\n",
       "      <th>venue_3</th>\n",
       "      <th>venue_4</th>\n",
       "      <th>venue_5</th>\n",
       "      <th>venue_6</th>\n",
       "      <th>ordersuccess</th>\n",
       "    </tr>\n",
       "  </thead>\n",
       "  <tbody>\n",
       "    <tr>\n",
       "      <th>0</th>\n",
       "      <td>100000.0</td>\n",
       "      <td>37829000.0</td>\n",
       "      <td>300</td>\n",
       "      <td>0</td>\n",
       "      <td>26.34</td>\n",
       "      <td>26.34</td>\n",
       "      <td>26.44</td>\n",
       "      <td>100</td>\n",
       "      <td>600</td>\n",
       "      <td>0</td>\n",
       "      <td>100</td>\n",
       "      <td>0.266875</td>\n",
       "      <td>287</td>\n",
       "      <td>445</td>\n",
       "      <td>0.141880</td>\n",
       "      <td>351</td>\n",
       "      <td>2451</td>\n",
       "      <td>5151</td>\n",
       "      <td>1</td>\n",
       "      <td>0</td>\n",
       "      <td>0</td>\n",
       "      <td>1</td>\n",
       "      <td>1</td>\n",
       "      <td>0</td>\n",
       "      <td>0</td>\n",
       "      <td>...</td>\n",
       "      <td>0</td>\n",
       "      <td>0</td>\n",
       "      <td>0</td>\n",
       "      <td>1</td>\n",
       "      <td>0</td>\n",
       "      <td>0</td>\n",
       "      <td>1</td>\n",
       "      <td>0</td>\n",
       "      <td>1</td>\n",
       "      <td>0</td>\n",
       "      <td>0</td>\n",
       "      <td>1</td>\n",
       "      <td>1</td>\n",
       "      <td>0</td>\n",
       "      <td>0</td>\n",
       "      <td>1</td>\n",
       "      <td>1</td>\n",
       "      <td>0</td>\n",
       "      <td>0</td>\n",
       "      <td>0</td>\n",
       "      <td>0</td>\n",
       "      <td>1</td>\n",
       "      <td>0</td>\n",
       "      <td>1</td>\n",
       "      <td>0</td>\n",
       "    </tr>\n",
       "    <tr>\n",
       "      <th>1</th>\n",
       "      <td>3000000.0</td>\n",
       "      <td>38829000.0</td>\n",
       "      <td>800</td>\n",
       "      <td>100</td>\n",
       "      <td>37.93</td>\n",
       "      <td>37.91</td>\n",
       "      <td>37.93</td>\n",
       "      <td>700</td>\n",
       "      <td>1100</td>\n",
       "      <td>0</td>\n",
       "      <td>100</td>\n",
       "      <td>0.020000</td>\n",
       "      <td>841</td>\n",
       "      <td>894</td>\n",
       "      <td>0.017481</td>\n",
       "      <td>103</td>\n",
       "      <td>3505</td>\n",
       "      <td>6102</td>\n",
       "      <td>0</td>\n",
       "      <td>1</td>\n",
       "      <td>0</td>\n",
       "      <td>0</td>\n",
       "      <td>1</td>\n",
       "      <td>0</td>\n",
       "      <td>0</td>\n",
       "      <td>...</td>\n",
       "      <td>0</td>\n",
       "      <td>0</td>\n",
       "      <td>1</td>\n",
       "      <td>0</td>\n",
       "      <td>0</td>\n",
       "      <td>0</td>\n",
       "      <td>0</td>\n",
       "      <td>0</td>\n",
       "      <td>1</td>\n",
       "      <td>1</td>\n",
       "      <td>0</td>\n",
       "      <td>0</td>\n",
       "      <td>1</td>\n",
       "      <td>0</td>\n",
       "      <td>0</td>\n",
       "      <td>0</td>\n",
       "      <td>1</td>\n",
       "      <td>0</td>\n",
       "      <td>0</td>\n",
       "      <td>1</td>\n",
       "      <td>0</td>\n",
       "      <td>0</td>\n",
       "      <td>0</td>\n",
       "      <td>0</td>\n",
       "      <td>0</td>\n",
       "    </tr>\n",
       "    <tr>\n",
       "      <th>2</th>\n",
       "      <td>0.0</td>\n",
       "      <td>37130000.0</td>\n",
       "      <td>300</td>\n",
       "      <td>0</td>\n",
       "      <td>16.23</td>\n",
       "      <td>16.21</td>\n",
       "      <td>16.23</td>\n",
       "      <td>700</td>\n",
       "      <td>500</td>\n",
       "      <td>0</td>\n",
       "      <td>100</td>\n",
       "      <td>0.033529</td>\n",
       "      <td>700</td>\n",
       "      <td>500</td>\n",
       "      <td>0.020000</td>\n",
       "      <td>0</td>\n",
       "      <td>0</td>\n",
       "      <td>0</td>\n",
       "      <td>0</td>\n",
       "      <td>1</td>\n",
       "      <td>0</td>\n",
       "      <td>0</td>\n",
       "      <td>0</td>\n",
       "      <td>0</td>\n",
       "      <td>1</td>\n",
       "      <td>...</td>\n",
       "      <td>0</td>\n",
       "      <td>0</td>\n",
       "      <td>0</td>\n",
       "      <td>1</td>\n",
       "      <td>0</td>\n",
       "      <td>1</td>\n",
       "      <td>0</td>\n",
       "      <td>0</td>\n",
       "      <td>0</td>\n",
       "      <td>1</td>\n",
       "      <td>0</td>\n",
       "      <td>1</td>\n",
       "      <td>0</td>\n",
       "      <td>0</td>\n",
       "      <td>0</td>\n",
       "      <td>1</td>\n",
       "      <td>0</td>\n",
       "      <td>0</td>\n",
       "      <td>0</td>\n",
       "      <td>1</td>\n",
       "      <td>0</td>\n",
       "      <td>0</td>\n",
       "      <td>0</td>\n",
       "      <td>1</td>\n",
       "      <td>0</td>\n",
       "    </tr>\n",
       "    <tr>\n",
       "      <th>3</th>\n",
       "      <td>26000000.0</td>\n",
       "      <td>38537000.0</td>\n",
       "      <td>1500</td>\n",
       "      <td>0</td>\n",
       "      <td>33.35</td>\n",
       "      <td>33.34</td>\n",
       "      <td>33.35</td>\n",
       "      <td>50100</td>\n",
       "      <td>10400</td>\n",
       "      <td>0</td>\n",
       "      <td>100</td>\n",
       "      <td>0.010000</td>\n",
       "      <td>35104</td>\n",
       "      <td>13450</td>\n",
       "      <td>0.010000</td>\n",
       "      <td>1329</td>\n",
       "      <td>16479</td>\n",
       "      <td>45465</td>\n",
       "      <td>0</td>\n",
       "      <td>1</td>\n",
       "      <td>0</td>\n",
       "      <td>0</td>\n",
       "      <td>1</td>\n",
       "      <td>0</td>\n",
       "      <td>0</td>\n",
       "      <td>...</td>\n",
       "      <td>0</td>\n",
       "      <td>0</td>\n",
       "      <td>0</td>\n",
       "      <td>0</td>\n",
       "      <td>0</td>\n",
       "      <td>0</td>\n",
       "      <td>0</td>\n",
       "      <td>0</td>\n",
       "      <td>1</td>\n",
       "      <td>0</td>\n",
       "      <td>1</td>\n",
       "      <td>0</td>\n",
       "      <td>1</td>\n",
       "      <td>1</td>\n",
       "      <td>0</td>\n",
       "      <td>1</td>\n",
       "      <td>1</td>\n",
       "      <td>0</td>\n",
       "      <td>0</td>\n",
       "      <td>0</td>\n",
       "      <td>0</td>\n",
       "      <td>0</td>\n",
       "      <td>1</td>\n",
       "      <td>1</td>\n",
       "      <td>1</td>\n",
       "    </tr>\n",
       "    <tr>\n",
       "      <th>4</th>\n",
       "      <td>1500000.0</td>\n",
       "      <td>38297000.0</td>\n",
       "      <td>300</td>\n",
       "      <td>0</td>\n",
       "      <td>25.33</td>\n",
       "      <td>25.32</td>\n",
       "      <td>25.33</td>\n",
       "      <td>1800</td>\n",
       "      <td>500</td>\n",
       "      <td>0</td>\n",
       "      <td>100</td>\n",
       "      <td>0.010000</td>\n",
       "      <td>1238</td>\n",
       "      <td>2949</td>\n",
       "      <td>0.010015</td>\n",
       "      <td>802</td>\n",
       "      <td>84803</td>\n",
       "      <td>131044</td>\n",
       "      <td>0</td>\n",
       "      <td>1</td>\n",
       "      <td>0</td>\n",
       "      <td>0</td>\n",
       "      <td>1</td>\n",
       "      <td>0</td>\n",
       "      <td>0</td>\n",
       "      <td>...</td>\n",
       "      <td>0</td>\n",
       "      <td>1</td>\n",
       "      <td>0</td>\n",
       "      <td>0</td>\n",
       "      <td>0</td>\n",
       "      <td>0</td>\n",
       "      <td>0</td>\n",
       "      <td>1</td>\n",
       "      <td>0</td>\n",
       "      <td>1</td>\n",
       "      <td>0</td>\n",
       "      <td>0</td>\n",
       "      <td>1</td>\n",
       "      <td>0</td>\n",
       "      <td>1</td>\n",
       "      <td>1</td>\n",
       "      <td>0</td>\n",
       "      <td>0</td>\n",
       "      <td>0</td>\n",
       "      <td>0</td>\n",
       "      <td>1</td>\n",
       "      <td>0</td>\n",
       "      <td>1</td>\n",
       "      <td>1</td>\n",
       "      <td>1</td>\n",
       "    </tr>\n",
       "  </tbody>\n",
       "</table>\n",
       "<p>5 rows × 68 columns</p>\n",
       "</div>"
      ],
      "text/plain": [
       "       adv20d     time_ms  size  minexecqty  limitprice  prevailbid  \\\n",
       "0    100000.0  37829000.0   300           0       26.34       26.34   \n",
       "1   3000000.0  38829000.0   800         100       37.93       37.91   \n",
       "2         0.0  37130000.0   300           0       16.23       16.21   \n",
       "3  26000000.0  38537000.0  1500           0       33.35       33.34   \n",
       "4   1500000.0  38297000.0   300           0       25.33       25.32   \n",
       "\n",
       "   prevailask  prevailbidsize  prevailasksize  dispatcherrebalance  lotsize  \\\n",
       "0       26.44             100             600                    0      100   \n",
       "1       37.93             700            1100                    0      100   \n",
       "2       16.23             700             500                    0      100   \n",
       "3       33.35           50100           10400                    0      100   \n",
       "4       25.33            1800             500                    0      100   \n",
       "\n",
       "   averagespread  misavgbidsize1min  misavgasksize1min  misavgspread1min  \\\n",
       "0       0.266875                287                445          0.141880   \n",
       "1       0.020000                841                894          0.017481   \n",
       "2       0.033529                700                500          0.020000   \n",
       "3       0.010000              35104              13450          0.010000   \n",
       "4       0.010000               1238               2949          0.010015   \n",
       "\n",
       "   misoddlotvolume1min  misadfvolume1min  misvolume1min  side_Sell  \\\n",
       "0                  351              2451           5151          1   \n",
       "1                  103              3505           6102          0   \n",
       "2                    0                 0              0          0   \n",
       "3                 1329             16479          45465          0   \n",
       "4                  802             84803         131044          0   \n",
       "\n",
       "   venuetype_Dark  venuetype_Gray  venuetype_Single-Dealer  \\\n",
       "0               0               0                        1   \n",
       "1               1               0                        0   \n",
       "2               1               0                        0   \n",
       "3               1               0                        0   \n",
       "4               1               0                        0   \n",
       "\n",
       "   securitycategory_COMMON  securitycategory_ETF  securitycategory_FUND  \\\n",
       "0                        1                     0                      0   \n",
       "1                        1                     0                      0   \n",
       "2                        0                     0                      1   \n",
       "3                        1                     0                      0   \n",
       "4                        1                     0                      0   \n",
       "\n",
       "       ...       sector_Test  sector_Utilities  mktcap_MID  mktcap_SMALL  \\\n",
       "0      ...                 0                 0           0             1   \n",
       "1      ...                 0                 0           1             0   \n",
       "2      ...                 0                 0           0             1   \n",
       "3      ...                 0                 0           0             0   \n",
       "4      ...                 0                 1           0             0   \n",
       "\n",
       "   symbol_0  symbol_1  symbol_2  symbol_3  symbol_4  symbol_5  symbol_6  \\\n",
       "0         0         0         1         0         1         0         0   \n",
       "1         0         0         0         0         1         1         0   \n",
       "2         0         1         0         0         0         1         0   \n",
       "3         0         0         0         0         1         0         1   \n",
       "4         0         0         0         1         0         1         0   \n",
       "\n",
       "   symbol_7  symbol_8  symbol_9  symbol_10  symbol_11  symbol_12  venue_0  \\\n",
       "0         1         1         0          0          1          1        0   \n",
       "1         0         1         0          0          0          1        0   \n",
       "2         1         0         0          0          1          0        0   \n",
       "3         0         1         1          0          1          1        0   \n",
       "4         0         1         0          1          1          0        0   \n",
       "\n",
       "   venue_1  venue_2  venue_3  venue_4  venue_5  venue_6  ordersuccess  \n",
       "0        0        0        0        1        0        1             0  \n",
       "1        0        1        0        0        0        0             0  \n",
       "2        0        1        0        0        0        1             0  \n",
       "3        0        0        0        0        1        1             1  \n",
       "4        0        0        1        0        1        1             1  \n",
       "\n",
       "[5 rows x 68 columns]"
      ]
     },
     "execution_count": 6,
     "metadata": {},
     "output_type": "execute_result"
    }
   ],
   "source": [
    "downsampled_fails = train_fail.sample(n=len(train_success))\n",
    "\n",
    "#recombine and shuffle data\n",
    "train_downsampled = pd.concat([downsampled_fails, train_success],axis=0)\n",
    "train_downsampled = train_downsampled.sample(frac=1).reset_index(drop=True)\n",
    "\n",
    "train_downsampled.head()"
   ]
  },
  {
   "cell_type": "markdown",
   "metadata": {},
   "source": [
    "## More Data Preparation"
   ]
  },
  {
   "cell_type": "code",
   "execution_count": 7,
   "metadata": {},
   "outputs": [],
   "source": [
    "train_features = train_downsampled.loc[:,train_downsampled.columns != 'ordersuccess']\n",
    "train_response = train_downsampled.loc[:,'ordersuccess']\n",
    "\n",
    "test_features = test.loc[:,test.columns != 'ordersuccess']\n",
    "test_response = test.loc[:,'ordersuccess']"
   ]
  },
  {
   "cell_type": "markdown",
   "metadata": {},
   "source": [
    "## Model Evaluation Functions"
   ]
  },
  {
   "cell_type": "code",
   "execution_count": 8,
   "metadata": {},
   "outputs": [],
   "source": [
    "def cm2df(cm, labels): \n",
    "    \"\"\"converts a numpy array confusion matrix to a pandas dataframe, with class labels\"\"\"\n",
    "    df = pd.DataFrame()\n",
    "    # rows\n",
    "    for i, row_label in enumerate(labels):\n",
    "        rowdata={}\n",
    "        # columns\n",
    "        for j, col_label in enumerate(labels): \n",
    "            rowdata[col_label]=cm[i,j]\n",
    "        df = df.append(pd.DataFrame.from_dict({row_label:rowdata}, orient='index'))\n",
    "    return df[labels]\n",
    "\n",
    "def model_eval(y_test, y_pred): \n",
    "    \"\"\"prints out a confusion matrix (pandas dataframe) and classification report\"\"\"\n",
    "    conf_mat = confusion_matrix(y_test, y_pred)\n",
    "    cm_as_df=cm2df(conf_mat,[0,1])\n",
    "    new_names = {0:'Order Fail',1:'Order Success'}\n",
    "    cm_as_df = cm_as_df.rename(index=new_names, \n",
    "                                 columns=new_names)\n",
    "    print('\\n')\n",
    "    print('CONFUSION MATRIX (predicted along top, actual along side): ')\n",
    "    display(cm_as_df)\n",
    "\n",
    "    print('\\n')\n",
    "    print(classification_report(y_test,y_pred,target_names=['Order Fail','Order Success']))\n",
    "    \n",
    "def cross_validation(model, features, response, num_folds):\n",
    "    metrics = ['precision_macro', 'recall_macro', \"f1_macro\"]\n",
    "    cv = cross_validate(model, features, response, scoring=metrics, cv=num_folds)\n",
    "    print(\"Test data set average precision across 5 folds:\")\n",
    "    print(cv['test_precision_macro'])\n",
    "    print(\"\\nTest data set average recall across 5 folds:\")\n",
    "    print(cv['test_recall_macro'])\n",
    "    print(\"\\nTest data set average fscore across 5 folds:\")\n",
    "    print(cv['test_f1_macro'])\n",
    "    \n",
    "def plot_roc_curve(model, X_test, y_test):\n",
    "    probabilities = model.predict_proba(X_test)[:,1]\n",
    "    auc = roc_auc_score(y_test, probabilities)\n",
    "    print('AUC: %.3f' % auc)\n",
    "\n",
    "    # calculate roc curve\n",
    "    fpr, tpr, thresholds = roc_curve(y_test, probabilities)\n",
    "    # plot no skill curve\n",
    "    plt.plot([0, 1], [0, 1], linestyle='--')\n",
    "    # plot the roc curve for the model\n",
    "    plt.plot(fpr, tpr, marker='.')\n",
    "    plt.xlabel('False Positive Rate')\n",
    "    plt.ylabel('True Positive Rate')\n",
    "    plt.title('ROC Curve')\n",
    "    plt.show()"
   ]
  },
  {
   "cell_type": "markdown",
   "metadata": {},
   "source": [
    "## Logistic Regression"
   ]
  },
  {
   "cell_type": "code",
   "execution_count": 9,
   "metadata": {},
   "outputs": [
    {
     "name": "stdout",
     "output_type": "stream",
     "text": [
      "\n",
      "\n",
      "CONFUSION MATRIX (predicted along top, actual along side): \n"
     ]
    },
    {
     "data": {
      "text/html": [
       "<div>\n",
       "<style scoped>\n",
       "    .dataframe tbody tr th:only-of-type {\n",
       "        vertical-align: middle;\n",
       "    }\n",
       "\n",
       "    .dataframe tbody tr th {\n",
       "        vertical-align: top;\n",
       "    }\n",
       "\n",
       "    .dataframe thead th {\n",
       "        text-align: right;\n",
       "    }\n",
       "</style>\n",
       "<table border=\"1\" class=\"dataframe\">\n",
       "  <thead>\n",
       "    <tr style=\"text-align: right;\">\n",
       "      <th></th>\n",
       "      <th>Order Fail</th>\n",
       "      <th>Order Success</th>\n",
       "    </tr>\n",
       "  </thead>\n",
       "  <tbody>\n",
       "    <tr>\n",
       "      <th>Order Fail</th>\n",
       "      <td>103650</td>\n",
       "      <td>56421</td>\n",
       "    </tr>\n",
       "    <tr>\n",
       "      <th>Order Success</th>\n",
       "      <td>2385</td>\n",
       "      <td>5975</td>\n",
       "    </tr>\n",
       "  </tbody>\n",
       "</table>\n",
       "</div>"
      ],
      "text/plain": [
       "               Order Fail  Order Success\n",
       "Order Fail         103650          56421\n",
       "Order Success        2385           5975"
      ]
     },
     "metadata": {},
     "output_type": "display_data"
    },
    {
     "name": "stdout",
     "output_type": "stream",
     "text": [
      "\n",
      "\n",
      "               precision    recall  f1-score   support\n",
      "\n",
      "   Order Fail       0.98      0.65      0.78    160071\n",
      "Order Success       0.10      0.71      0.17      8360\n",
      "\n",
      "  avg / total       0.93      0.65      0.75    168431\n",
      "\n",
      "AUC: 0.719\n"
     ]
    },
    {
     "data": {
      "image/png": "[encoded data removed]",
      "text/plain": [
       "<Figure size 432x288 with 1 Axes>"
      ]
     },
     "metadata": {},
     "output_type": "display_data"
    }
   ],
   "source": [
    "logreg = LogisticRegression()\n",
    "\n",
    "logreg.fit(train_features, train_response)\n",
    "\n",
    "y_pred = logreg.predict(test_features)\n",
    "model_eval(test_response, y_pred)\n",
    "\n",
    "plot_roc_curve(logreg, test_features, test_response)\n",
    "\n",
    "# cross_validation(logreg, features, response, 5)"
   ]
  },
  {
   "cell_type": "markdown",
   "metadata": {},
   "source": [
    "## Decision Tree"
   ]
  },
  {
   "cell_type": "code",
   "execution_count": 10,
   "metadata": {},
   "outputs": [
    {
     "name": "stdout",
     "output_type": "stream",
     "text": [
      "\n",
      "\n",
      "CONFUSION MATRIX (predicted along top, actual along side): \n"
     ]
    },
    {
     "data": {
      "text/html": [
       "<div>\n",
       "<style scoped>\n",
       "    .dataframe tbody tr th:only-of-type {\n",
       "        vertical-align: middle;\n",
       "    }\n",
       "\n",
       "    .dataframe tbody tr th {\n",
       "        vertical-align: top;\n",
       "    }\n",
       "\n",
       "    .dataframe thead th {\n",
       "        text-align: right;\n",
       "    }\n",
       "</style>\n",
       "<table border=\"1\" class=\"dataframe\">\n",
       "  <thead>\n",
       "    <tr style=\"text-align: right;\">\n",
       "      <th></th>\n",
       "      <th>Order Fail</th>\n",
       "      <th>Order Success</th>\n",
       "    </tr>\n",
       "  </thead>\n",
       "  <tbody>\n",
       "    <tr>\n",
       "      <th>Order Fail</th>\n",
       "      <td>126429</td>\n",
       "      <td>33642</td>\n",
       "    </tr>\n",
       "    <tr>\n",
       "      <th>Order Success</th>\n",
       "      <td>1710</td>\n",
       "      <td>6650</td>\n",
       "    </tr>\n",
       "  </tbody>\n",
       "</table>\n",
       "</div>"
      ],
      "text/plain": [
       "               Order Fail  Order Success\n",
       "Order Fail         126429          33642\n",
       "Order Success        1710           6650"
      ]
     },
     "metadata": {},
     "output_type": "display_data"
    },
    {
     "name": "stdout",
     "output_type": "stream",
     "text": [
      "\n",
      "\n",
      "               precision    recall  f1-score   support\n",
      "\n",
      "   Order Fail       0.99      0.79      0.88    160071\n",
      "Order Success       0.17      0.80      0.27      8360\n",
      "\n",
      "  avg / total       0.95      0.79      0.85    168431\n",
      "\n",
      "AUC: 0.793\n"
     ]
    },
    {
     "data": {
      "image/png": "[encoded data removed]",
      "text/plain": [
       "<Figure size 432x288 with 1 Axes>"
      ]
     },
     "metadata": {},
     "output_type": "display_data"
    }
   ],
   "source": [
    "CART = DecisionTreeClassifier()\n",
    "\n",
    "CART.fit(train_features, train_response)\n",
    "\n",
    "y_pred = CART.predict(test_features)\n",
    "model_eval(test_response, y_pred)\n",
    "\n",
    "plot_roc_curve(CART, test_features, test_response)\n",
    "\n",
    "# cross_validation(CART, features, response, 5)"
   ]
  },
  {
   "cell_type": "markdown",
   "metadata": {},
   "source": [
    "## Random Forest"
   ]
  },
  {
   "cell_type": "code",
   "execution_count": 11,
   "metadata": {},
   "outputs": [
    {
     "name": "stdout",
     "output_type": "stream",
     "text": [
      "\n",
      "\n",
      "CONFUSION MATRIX (predicted along top, actual along side): \n"
     ]
    },
    {
     "data": {
      "text/html": [
       "<div>\n",
       "<style scoped>\n",
       "    .dataframe tbody tr th:only-of-type {\n",
       "        vertical-align: middle;\n",
       "    }\n",
       "\n",
       "    .dataframe tbody tr th {\n",
       "        vertical-align: top;\n",
       "    }\n",
       "\n",
       "    .dataframe thead th {\n",
       "        text-align: right;\n",
       "    }\n",
       "</style>\n",
       "<table border=\"1\" class=\"dataframe\">\n",
       "  <thead>\n",
       "    <tr style=\"text-align: right;\">\n",
       "      <th></th>\n",
       "      <th>Order Fail</th>\n",
       "      <th>Order Success</th>\n",
       "    </tr>\n",
       "  </thead>\n",
       "  <tbody>\n",
       "    <tr>\n",
       "      <th>Order Fail</th>\n",
       "      <td>132875</td>\n",
       "      <td>27196</td>\n",
       "    </tr>\n",
       "    <tr>\n",
       "      <th>Order Success</th>\n",
       "      <td>1358</td>\n",
       "      <td>7002</td>\n",
       "    </tr>\n",
       "  </tbody>\n",
       "</table>\n",
       "</div>"
      ],
      "text/plain": [
       "               Order Fail  Order Success\n",
       "Order Fail         132875          27196\n",
       "Order Success        1358           7002"
      ]
     },
     "metadata": {},
     "output_type": "display_data"
    },
    {
     "name": "stdout",
     "output_type": "stream",
     "text": [
      "\n",
      "\n",
      "               precision    recall  f1-score   support\n",
      "\n",
      "   Order Fail       0.99      0.83      0.90    160071\n",
      "Order Success       0.20      0.84      0.33      8360\n",
      "\n",
      "  avg / total       0.95      0.83      0.87    168431\n",
      "\n",
      "AUC: 0.913\n"
     ]
    },
    {
     "data": {
      "image/png": "[encoded data removed]",
      "text/plain": [
       "<Figure size 432x288 with 1 Axes>"
      ]
     },
     "metadata": {},
     "output_type": "display_data"
    }
   ],
   "source": [
    "RF = RandomForestClassifier()\n",
    "\n",
    "RF.fit(train_features, train_response)\n",
    "\n",
    "y_pred = RF.predict(test_features)\n",
    "model_eval(test_response, y_pred)\n",
    "\n",
    "plot_roc_curve(RF, test_features, test_response)\n",
    "\n",
    "# cross_validation(RF, features, response, 5)"
   ]
  },
  {
   "cell_type": "code",
   "execution_count": 18,
   "metadata": {},
   "outputs": [
    {
     "name": "stdout",
     "output_type": "stream",
     "text": [
      "{'bootstrap': [True, False],\n",
      " 'max_depth': [10, 20, 30, 40, 50, 60, 70, 80, 90, 100, None],\n",
      " 'max_features': ['auto', 'log2', None],\n",
      " 'min_samples_leaf': [1, 2, 4],\n",
      " 'min_samples_split': [2, 5, 10],\n",
      " 'n_estimators': [5, 10, 50, 100, 200, 400]}\n"
     ]
    }
   ],
   "source": [
    "import numpy as np\n",
    "from pprint import pprint\n",
    "from sklearn.model_selection import RandomizedSearchCV\n",
    "# Number of trees in random forest\n",
    "n_estimators = [5, 10, 50, 100, 200, 400]\n",
    "\n",
    "# Number of features to consider at every split\n",
    "max_features = ['auto', 'log2', None] #'auto' = sqrt(n_features)\n",
    "\n",
    "# Maximum number of levels in tree\n",
    "max_depth = [int(x) for x in np.linspace(10, 100, num = 10)]\n",
    "max_depth.append(None)\n",
    "\n",
    "# Minimum number of samples required to split a node\n",
    "min_samples_split = [2, 5, 10]\n",
    "\n",
    "# Minimum number of samples required at each leaf node\n",
    "min_samples_leaf = [1, 2, 4]\n",
    "\n",
    "# Method of selecting samples for training each tree\n",
    "bootstrap = [True, False]\n",
    "\n",
    "# Create the random grid\n",
    "random_grid = {'n_estimators': n_estimators,\n",
    "               'max_features': max_features,\n",
    "               'max_depth': max_depth,\n",
    "               'min_samples_split': min_samples_split,\n",
    "               'min_samples_leaf': min_samples_leaf,\n",
    "               'bootstrap': bootstrap}\n",
    "pprint(random_grid)"
   ]
  },
  {
   "cell_type": "code",
   "execution_count": 21,
   "metadata": {},
   "outputs": [
    {
     "name": "stdout",
     "output_type": "stream",
     "text": [
      "Fitting 3 folds for each of 50 candidates, totalling 150 fits\n"
     ]
    },
    {
     "name": "stderr",
     "output_type": "stream",
     "text": [
      "[Parallel(n_jobs=-1)]: Done  25 tasks      | elapsed:  1.3min\n",
      "[Parallel(n_jobs=-1)]: Done 150 out of 150 | elapsed: 16.4min finished\n"
     ]
    },
    {
     "data": {
      "text/plain": [
       "{'n_estimators': 400,\n",
       " 'min_samples_split': 2,\n",
       " 'min_samples_leaf': 2,\n",
       " 'max_features': 'log2',\n",
       " 'max_depth': 90,\n",
       " 'bootstrap': False}"
      ]
     },
     "execution_count": 21,
     "metadata": {},
     "output_type": "execute_result"
    }
   ],
   "source": [
    "# Use the random grid to search for best hyperparameters\n",
    "# First create the base model to tune\n",
    "RF = RandomForestClassifier()\n",
    "\n",
    "# the metric used to select the best parameters\n",
    "f2_score = make_scorer(fbeta_score, beta=1, pos_label=1) #beta = 1 (focus on f1 score), pos_label = 1 (focus on the 1 class)\n",
    "\n",
    "# Random search of parameters, using 3 fold cross validation, \n",
    "# search across 100 different combinations, and use all available cores\n",
    "rf_random = RandomizedSearchCV(estimator = RF, param_distributions = random_grid, n_iter = 50, \n",
    "                               cv = 3, verbose=2, scoring=f2_score, random_state=42, n_jobs = -1)\n",
    "\n",
    "# Fit the random search model\n",
    "rf_random.fit(train_features, train_response)\n",
    "rf_random.best_params_"
   ]
  },
  {
   "cell_type": "code",
   "execution_count": 22,
   "metadata": {},
   "outputs": [
    {
     "name": "stdout",
     "output_type": "stream",
     "text": [
      "\n",
      "\n",
      "CONFUSION MATRIX (predicted along top, actual along side): \n"
     ]
    },
    {
     "data": {
      "text/html": [
       "<div>\n",
       "<style scoped>\n",
       "    .dataframe tbody tr th:only-of-type {\n",
       "        vertical-align: middle;\n",
       "    }\n",
       "\n",
       "    .dataframe tbody tr th {\n",
       "        vertical-align: top;\n",
       "    }\n",
       "\n",
       "    .dataframe thead th {\n",
       "        text-align: right;\n",
       "    }\n",
       "</style>\n",
       "<table border=\"1\" class=\"dataframe\">\n",
       "  <thead>\n",
       "    <tr style=\"text-align: right;\">\n",
       "      <th></th>\n",
       "      <th>Order Fail</th>\n",
       "      <th>Order Success</th>\n",
       "    </tr>\n",
       "  </thead>\n",
       "  <tbody>\n",
       "    <tr>\n",
       "      <th>Order Fail</th>\n",
       "      <td>130127</td>\n",
       "      <td>29833</td>\n",
       "    </tr>\n",
       "    <tr>\n",
       "      <th>Order Success</th>\n",
       "      <td>847</td>\n",
       "      <td>7624</td>\n",
       "    </tr>\n",
       "  </tbody>\n",
       "</table>\n",
       "</div>"
      ],
      "text/plain": [
       "               Order Fail  Order Success\n",
       "Order Fail         130127          29833\n",
       "Order Success         847           7624"
      ]
     },
     "metadata": {},
     "output_type": "display_data"
    },
    {
     "name": "stdout",
     "output_type": "stream",
     "text": [
      "\n",
      "\n",
      "               precision    recall  f1-score   support\n",
      "\n",
      "   Order Fail       0.99      0.81      0.89    159960\n",
      "Order Success       0.20      0.90      0.33      8471\n",
      "\n",
      "  avg / total       0.95      0.82      0.87    168431\n",
      "\n",
      "AUC: 0.933\n"
     ]
    },
    {
     "data": {
      "image/png": "[encoded data removed]",
      "text/plain": [
       "<Figure size 432x288 with 1 Axes>"
      ]
     },
     "metadata": {},
     "output_type": "display_data"
    }
   ],
   "source": [
    "RF_tuned = RandomForestClassifier(n_estimators=400, min_samples_split=2, min_samples_leaf=2,\n",
    "                           max_features='log2', max_depth=90, bootstrap=False)\n",
    "\n",
    "RF_tuned.fit(train_features, train_response)\n",
    "\n",
    "y_pred = RF_tuned.predict(test_features)\n",
    "model_eval(test_response, y_pred)\n",
    "\n",
    "plot_roc_curve(RF_tuned, test_features, test_response)"
   ]
  },
  {
   "cell_type": "markdown",
   "metadata": {},
   "source": [
    "## Tune Random Forest Params with Grid Search"
   ]
  },
  {
   "cell_type": "code",
   "execution_count": null,
   "metadata": {},
   "outputs": [
    {
     "name": "stdout",
     "output_type": "stream",
     "text": [
      "Fitting 3 folds for each of 81 candidates, totalling 243 fits\n"
     ]
    },
    {
     "name": "stderr",
     "output_type": "stream",
     "text": [
      "[Parallel(n_jobs=-1)]: Done  25 tasks      | elapsed: 50.0min\n",
      "[Parallel(n_jobs=-1)]: Done 146 tasks      | elapsed: 259.4min\n"
     ]
    }
   ],
   "source": [
    "# narrow down range of considered parameters given by RandomizedSearchCV, then conduct grid search\n",
    "parameters = {\n",
    "    'bootstrap': [False],\n",
    "    'max_depth': [80, 90, 100],\n",
    "    'max_features': ['log2'],\n",
    "    'min_samples_leaf': [1, 2, 4],\n",
    "    'min_samples_split': [2, 3, 4],\n",
    "    'n_estimators': [300, 400, 600]\n",
    "}\n",
    "RF = RandomForestClassifier()\n",
    "\n",
    "# the metric used to select the best parameters\n",
    "f2_score = make_scorer(fbeta_score, beta=1, pos_label=1) #beta = 1 (focus on f1 score), pos_label = 1 (focus on the 1 class)\n",
    "# metric =  \"f1_macro\"\n",
    "\n",
    "# apply cross validation and exhaustively search for best parameters\n",
    "gs_clf = GridSearchCV(RF, param_grid=parameters, scoring=f2_score, cv=3, verbose=2, n_jobs=-1).fit(features, response)\n",
    "\n",
    "print('Optimal hyperparameters given by grid search:')\n",
    "for param_name in gs_clf.best_params_:\n",
    "    print(param_name, gs_clf.best_params_[param_name])\n",
    "\n",
    "print(\"best f1 score:\", gs_clf.best_score_)"
   ]
  }
 ],
 "metadata": {
  "kernelspec": {
   "display_name": "Python 3",
   "language": "python",
   "name": "python3"
  },
  "language_info": {
   "codemirror_mode": {
    "name": "ipython",
    "version": 3
   },
   "file_extension": ".py",
   "mimetype": "text/x-python",
   "name": "python",
   "nbconvert_exporter": "python",
   "pygments_lexer": "ipython3",
   "version": "3.6.5"
  }
 },
 "nbformat": 4,
 "nbformat_minor": 2
}
