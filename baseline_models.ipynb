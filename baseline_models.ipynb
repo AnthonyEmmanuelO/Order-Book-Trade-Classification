{
 "cells": [
  {
   "cell_type": "code",
   "execution_count": 1,
   "metadata": {},
   "outputs": [],
   "source": [
    "import matplotlib.pyplot as plt\n",
    "plt.rcParams[\"figure.figsize\"] = (9,4)\n",
    "import pandas as pd\n",
    "pd.set_option('display.max_columns', 50)\n",
    "\n",
    "import category_encoders as ce\n",
    "from datetime import datetime, timedelta\n",
    "from scipy.stats import zscore\n",
    "from sklearn.preprocessing import StandardScaler\n",
    "\n",
    "from sklearn.neighbors import KNeighborsClassifier\n",
    "from sklearn.linear_model import LogisticRegression\n",
    "from sklearn.tree import DecisionTreeClassifier\n",
    "from sklearn.ensemble import RandomForestClassifier\n",
    "from sklearn import svm\n",
    "from sklearn.svm import SVC\n",
    "from sklearn.neural_network import MLPClassifier\n",
    "from sklearn.naive_bayes import MultinomialNB\n",
    "from sklearn.ensemble import AdaBoostClassifier\n",
    "\n",
    "from sklearn.metrics import confusion_matrix\n",
    "from sklearn.metrics import classification_report\n",
    "from sklearn.model_selection import cross_validate\n",
    "from sklearn.model_selection import cross_val_predict\n",
    "from sklearn.metrics import roc_curve\n",
    "from sklearn.metrics import roc_auc_score\n",
    "from sklearn.model_selection import GridSearchCV\n",
    "from sklearn.metrics import make_scorer, fbeta_score"
   ]
  },
  {
   "cell_type": "code",
   "execution_count": 2,
   "metadata": {},
   "outputs": [],
   "source": [
    "df = pd.read_csv('data.csv')"
   ]
  },
  {
   "cell_type": "markdown",
   "metadata": {},
   "source": [
    "### Class Proportions (Response = 'ordersuccess')"
   ]
  },
  {
   "cell_type": "code",
   "execution_count": 3,
   "metadata": {},
   "outputs": [
    {
     "name": "stdout",
     "output_type": "stream",
     "text": [
      "Number of order successes:  28190\n",
      "Proportion of order successes:  0.05021044213331149\n",
      "Number of order failures:  533247\n",
      "Proportion of order failures:  0.9497895578666885\n"
     ]
    }
   ],
   "source": [
    "success = df[df['ordersuccess']==1]\n",
    "fail = df[df['ordersuccess']==0]\n",
    "\n",
    "success_num = len(success)\n",
    "fail_num = len(fail)\n",
    "total = len(df)\n",
    "\n",
    "print('Number of order successes: ', success_num)\n",
    "print('Proportion of order successes: ', success_num / (success_num + fail_num))\n",
    "print('Number of order failures: ', fail_num)\n",
    "print('Proportion of order failures: ', fail_num / (success_num + fail_num))"
   ]
  },
  {
   "cell_type": "markdown",
   "metadata": {},
   "source": [
    "## Preprocessing"
   ]
  },
  {
   "cell_type": "code",
   "execution_count": 4,
   "metadata": {},
   "outputs": [
    {
     "name": "stderr",
     "output_type": "stream",
     "text": [
      "C:\\Anaconda\\lib\\site-packages\\ipykernel_launcher.py:26: FutureWarning: Method .as_matrix will be removed in a future version. Use .values instead.\n",
      "C:\\Anaconda\\lib\\site-packages\\ipykernel_launcher.py:32: FutureWarning: Method .as_matrix will be removed in a future version. Use .values instead.\n"
     ]
    }
   ],
   "source": [
    "def getTimeMS(t):\n",
    "    if '.' in t:\n",
    "        timestamp, ms = t.split('.')\n",
    "    else:\n",
    "        timestamp = t\n",
    "        ms = 0\n",
    "    time_obj = datetime.strptime(timestamp, '%H:%M:%S')\n",
    "    epoch = datetime(1900, 1, 1, 0, 0, 0, 0)\n",
    "    milliseconds = (time_obj - epoch) // timedelta(milliseconds=1)\n",
    "    return milliseconds + float(ms)*1000\n",
    "\n",
    "df['time_ms'] = df['starttime'].apply(lambda x: getTimeMS(x))\n",
    "df['adv20d'] = df.loc[:,'adv20d'].fillna(0)\n",
    "\n",
    "#continuous features\n",
    "cont_features = df.loc[:,['time_ms','size','minexecqty','limitprice','prevailbid','prevailask','prevailbidsize','prevailasksize',\n",
    "                          'dispatcherrebalance','lotsize','averagespread','misavgbidsize1min','misavgasksize1min', \n",
    "                          'misavgspread1min', 'misoddlotvolume1min', 'misadfvolume1min','misvolume1min', 'adv20d']]\n",
    "\n",
    "#one-hot encoded features\n",
    "dummies = pd.get_dummies(df.loc[:,['side','venuetype','securitycategory', 'peginstruction',\n",
    "                                   'sector','mktcap']].astype('category'),drop_first=True)\n",
    "\n",
    "#binary encoded features\n",
    "enc = ce.BinaryEncoder()\n",
    "binary_sym = enc.fit_transform(df.loc[:,'symbol'].as_matrix())\n",
    "names = {'0_0':'symbol_0', '0_1':'symbol_1','0_2':'symbol_2','0_3':'symbol_3','0_4':'symbol_4',\n",
    "         '0_5':'symbol_5','0_6':'symbol_6','0_7':'symbol_7','0_8':'symbol_8','0_9':'symbol_9',\n",
    "         '0_10':'symbol_10','0_11':'symbol_11','0_12':'symbol_12'}\n",
    "binary_sym = binary_sym.rename(columns=names)\n",
    "\n",
    "binary_venue = enc.fit_transform(df.loc[:,'venue'].as_matrix())\n",
    "names = {'0_0':'venue_0', '0_1':'venue_1','0_2':'venue_2',\n",
    "         '0_3':'venue_3','0_4':'venue_4','0_5':'venue_5','0_6':'venue_6'}\n",
    "binary_venue = binary_venue.rename(columns=names)\n",
    "\n",
    "\n",
    "features = pd.concat([cont_features, dummies, binary_sym, binary_venue], axis=1)\n",
    "response = df.loc[:,'ordersuccess']\n",
    "df = pd.concat([features,response],axis=1)"
   ]
  },
  {
   "cell_type": "markdown",
   "metadata": {},
   "source": [
    "## Train / Test Split"
   ]
  },
  {
   "cell_type": "code",
   "execution_count": 5,
   "metadata": {},
   "outputs": [],
   "source": [
    "df = df.sample(frac=1)\n",
    "train = df.head(round(total*.70))\n",
    "train = train.reset_index(drop=True)\n",
    "test = df.tail(round(total*.30))\n",
    "test = test.reset_index(drop=True)\n",
    "\n",
    "#get Z scores for training data\n",
    "cont_features = ['time_ms','size','minexecqty','limitprice','prevailbid','prevailask','prevailbidsize','prevailasksize',\n",
    "                      'dispatcherrebalance','lotsize','averagespread','misavgbidsize1min','misavgasksize1min', \n",
    "                      'misavgspread1min', 'misoddlotvolume1min', 'misadfvolume1min','misvolume1min', 'adv20d']\n",
    "scaler = StandardScaler().fit(train.loc[:,cont_features])\n",
    "Z = pd.DataFrame(scaler.transform(train.loc[:, cont_features]))\n",
    "train_categories = train[train.columns[~train.columns.isin(cont_features)]]   \n",
    "train_Z = pd.concat([Z, train_categories], axis=1)\n",
    "\n",
    "#get Z scores for testing data\n",
    "scaler = StandardScaler().fit(test.loc[:,cont_features])\n",
    "Z = pd.DataFrame(scaler.transform(test.loc[:, cont_features]))\n",
    "test_categories = test[test.columns[~test.columns.isin(cont_features)]]   \n",
    "test_Z = pd.concat([Z, test_categories], axis=1)\n",
    "\n",
    "#split rows by class\n",
    "train_success = train[train['ordersuccess']==1]\n",
    "train_success_Z = train_Z[train_Z['ordersuccess']==1]\n",
    "train_fail = train[train['ordersuccess']==0]\n",
    "train_fail_Z = train_Z[train_Z['ordersuccess']==0]\n",
    "\n",
    "test_success = test[test['ordersuccess']==1]\n",
    "test_success_Z = test_Z[test_Z['ordersuccess']==1]\n",
    "test_fail = test[test['ordersuccess']==0]\n",
    "test_fail_Z = test_Z[test_Z['ordersuccess']==0]"
   ]
  },
  {
   "cell_type": "markdown",
   "metadata": {},
   "source": [
    "## Downsampling"
   ]
  },
  {
   "cell_type": "code",
   "execution_count": 6,
   "metadata": {},
   "outputs": [],
   "source": [
    "downsampled_fails = train_fail.sample(n=len(train_success))\n",
    "\n",
    "#recombine and shuffle data\n",
    "train_downsampled = pd.concat([downsampled_fails, train_success],axis=0)\n",
    "train_downsampled = train_downsampled.sample(frac=1).reset_index(drop=True)\n",
    "# display(train_downsampled.head())\n",
    "\n",
    "\n",
    "downsampled_fails_Z = train_fail_Z.sample(n=len(train_success_Z))\n",
    "\n",
    "#recombine and shuffle data\n",
    "train_downsampled_Z = pd.concat([downsampled_fails_Z, train_success_Z],axis=0)\n",
    "train_downsampled_Z = train_downsampled_Z.sample(frac=1).reset_index(drop=True)\n",
    "# display(train_downsampled_Z.head())"
   ]
  },
  {
   "cell_type": "markdown",
   "metadata": {},
   "source": [
    "## More Data Preparation"
   ]
  },
  {
   "cell_type": "code",
   "execution_count": 7,
   "metadata": {},
   "outputs": [],
   "source": [
    "train_features = train_downsampled.loc[:,train_downsampled.columns != 'ordersuccess']\n",
    "train_response = train_downsampled.loc[:,'ordersuccess']\n",
    "\n",
    "test_features = test.loc[:,test.columns != 'ordersuccess']\n",
    "test_response = test.loc[:,'ordersuccess']\n",
    "\n",
    "\n",
    "train_features_Z = train_downsampled_Z.loc[:,train_downsampled_Z.columns != 'ordersuccess']\n",
    "train_response_Z = train_downsampled_Z.loc[:,'ordersuccess']\n",
    "\n",
    "test_features_Z = test_Z.loc[:,test_Z.columns != 'ordersuccess']\n",
    "test_response_Z = test_Z.loc[:,'ordersuccess']"
   ]
  },
  {
   "cell_type": "markdown",
   "metadata": {},
   "source": [
    "## Model Evaluation Functions"
   ]
  },
  {
   "cell_type": "code",
   "execution_count": 8,
   "metadata": {},
   "outputs": [],
   "source": [
    "def cm2df(cm, labels): \n",
    "    \"\"\"converts a numpy array confusion matrix to a pandas dataframe, with class labels\"\"\"\n",
    "    df = pd.DataFrame()\n",
    "    # rows\n",
    "    for i, row_label in enumerate(labels):\n",
    "        rowdata={}\n",
    "        # columns\n",
    "        for j, col_label in enumerate(labels): \n",
    "            rowdata[col_label]=cm[i,j]\n",
    "        df = df.append(pd.DataFrame.from_dict({row_label:rowdata}, orient='index'))\n",
    "    return df[labels]\n",
    "\n",
    "def model_eval(y_test, y_pred): \n",
    "    \"\"\"prints out a confusion matrix (pandas dataframe) and classification report\"\"\"\n",
    "    conf_mat = confusion_matrix(y_test, y_pred)\n",
    "    cm_as_df=cm2df(conf_mat,[0,1])\n",
    "    new_names = {0:'Order Fail',1:'Order Success'}\n",
    "    cm_as_df = cm_as_df.rename(index=new_names, \n",
    "                                 columns=new_names)\n",
    "    print('\\n')\n",
    "    print('CONFUSION MATRIX (predicted along top, actual along side): ')\n",
    "    display(cm_as_df)\n",
    "\n",
    "    print('\\n')\n",
    "    print(classification_report(y_test,y_pred,target_names=['Order Fail','Order Success']))\n",
    "    \n",
    "def cross_validation(model, features, response, num_folds):\n",
    "    metrics = ['precision_macro', 'recall_macro', \"f1_macro\"]\n",
    "    cv = cross_validate(model, features, response, scoring=metrics, cv=num_folds)\n",
    "    print(\"Test data set average precision across 5 folds:\")\n",
    "    print(cv['test_precision_macro'])\n",
    "    print(\"\\nTest data set average recall across 5 folds:\")\n",
    "    print(cv['test_recall_macro'])\n",
    "    print(\"\\nTest data set average fscore across 5 folds:\")\n",
    "    print(cv['test_f1_macro'])\n",
    "    \n",
    "def plot_roc_curve(model, X_test, y_test):\n",
    "    probabilities = model.predict_proba(X_test)[:,1]\n",
    "    auc = roc_auc_score(y_test, probabilities)\n",
    "    print('AUC: %.3f' % auc)\n",
    "\n",
    "    # calculate roc curve\n",
    "    fpr, tpr, thresholds = roc_curve(y_test, probabilities)\n",
    "    # plot no skill curve\n",
    "    plt.plot([0, 1], [0, 1], linestyle='--')\n",
    "    # plot the roc curve for the model\n",
    "    plt.plot(fpr, tpr, marker='.')\n",
    "    plt.xlabel('False Positive Rate')\n",
    "    plt.ylabel('True Positive Rate')\n",
    "    plt.title('ROC Curve')\n",
    "    plt.show()"
   ]
  },
  {
   "cell_type": "markdown",
   "metadata": {},
   "source": [
    "## Logistic Regression"
   ]
  },
  {
   "cell_type": "code",
   "execution_count": 9,
   "metadata": {},
   "outputs": [
    {
     "name": "stdout",
     "output_type": "stream",
     "text": [
      "\n",
      "\n",
      "CONFUSION MATRIX (predicted along top, actual along side): \n"
     ]
    },
    {
     "data": {
      "text/html": [
       "<div>\n",
       "<style scoped>\n",
       "    .dataframe tbody tr th:only-of-type {\n",
       "        vertical-align: middle;\n",
       "    }\n",
       "\n",
       "    .dataframe tbody tr th {\n",
       "        vertical-align: top;\n",
       "    }\n",
       "\n",
       "    .dataframe thead th {\n",
       "        text-align: right;\n",
       "    }\n",
       "</style>\n",
       "<table border=\"1\" class=\"dataframe\">\n",
       "  <thead>\n",
       "    <tr style=\"text-align: right;\">\n",
       "      <th></th>\n",
       "      <th>Order Fail</th>\n",
       "      <th>Order Success</th>\n",
       "    </tr>\n",
       "  </thead>\n",
       "  <tbody>\n",
       "    <tr>\n",
       "      <th>Order Fail</th>\n",
       "      <td>107065</td>\n",
       "      <td>52921</td>\n",
       "    </tr>\n",
       "    <tr>\n",
       "      <th>Order Success</th>\n",
       "      <td>2376</td>\n",
       "      <td>6069</td>\n",
       "    </tr>\n",
       "  </tbody>\n",
       "</table>\n",
       "</div>"
      ],
      "text/plain": [
       "               Order Fail  Order Success\n",
       "Order Fail         107065          52921\n",
       "Order Success        2376           6069"
      ]
     },
     "metadata": {},
     "output_type": "display_data"
    },
    {
     "name": "stdout",
     "output_type": "stream",
     "text": [
      "\n",
      "\n",
      "               precision    recall  f1-score   support\n",
      "\n",
      "   Order Fail       0.98      0.67      0.79    159986\n",
      "Order Success       0.10      0.72      0.18      8445\n",
      "\n",
      "  avg / total       0.93      0.67      0.76    168431\n",
      "\n",
      "AUC: 0.737\n"
     ]
    },
    {
     "data": {
      "image/png": "[encoded data removed]",
      "text/plain": [
       "<Figure size 432x288 with 1 Axes>"
      ]
     },
     "metadata": {},
     "output_type": "display_data"
    }
   ],
   "source": [
    "logreg = LogisticRegression()\n",
    "\n",
    "logreg.fit(train_features, train_response)\n",
    "\n",
    "y_pred = logreg.predict(test_features)\n",
    "model_eval(test_response, y_pred)\n",
    "\n",
    "plot_roc_curve(logreg, test_features, test_response)\n",
    "\n",
    "# cross_validation(logreg, features, response, 5)"
   ]
  },
  {
   "cell_type": "markdown",
   "metadata": {},
   "source": [
    "## Decision Tree"
   ]
  },
  {
   "cell_type": "code",
   "execution_count": 10,
   "metadata": {},
   "outputs": [
    {
     "name": "stdout",
     "output_type": "stream",
     "text": [
      "\n",
      "\n",
      "CONFUSION MATRIX (predicted along top, actual along side): \n"
     ]
    },
    {
     "data": {
      "text/html": [
       "<div>\n",
       "<style scoped>\n",
       "    .dataframe tbody tr th:only-of-type {\n",
       "        vertical-align: middle;\n",
       "    }\n",
       "\n",
       "    .dataframe tbody tr th {\n",
       "        vertical-align: top;\n",
       "    }\n",
       "\n",
       "    .dataframe thead th {\n",
       "        text-align: right;\n",
       "    }\n",
       "</style>\n",
       "<table border=\"1\" class=\"dataframe\">\n",
       "  <thead>\n",
       "    <tr style=\"text-align: right;\">\n",
       "      <th></th>\n",
       "      <th>Order Fail</th>\n",
       "      <th>Order Success</th>\n",
       "    </tr>\n",
       "  </thead>\n",
       "  <tbody>\n",
       "    <tr>\n",
       "      <th>Order Fail</th>\n",
       "      <td>125821</td>\n",
       "      <td>34165</td>\n",
       "    </tr>\n",
       "    <tr>\n",
       "      <th>Order Success</th>\n",
       "      <td>1599</td>\n",
       "      <td>6846</td>\n",
       "    </tr>\n",
       "  </tbody>\n",
       "</table>\n",
       "</div>"
      ],
      "text/plain": [
       "               Order Fail  Order Success\n",
       "Order Fail         125821          34165\n",
       "Order Success        1599           6846"
      ]
     },
     "metadata": {},
     "output_type": "display_data"
    },
    {
     "name": "stdout",
     "output_type": "stream",
     "text": [
      "\n",
      "\n",
      "               precision    recall  f1-score   support\n",
      "\n",
      "   Order Fail       0.99      0.79      0.88    159986\n",
      "Order Success       0.17      0.81      0.28      8445\n",
      "\n",
      "  avg / total       0.95      0.79      0.85    168431\n",
      "\n",
      "AUC: 0.799\n"
     ]
    },
    {
     "data": {
      "image/png": "[encoded data removed]",
      "text/plain": [
       "<Figure size 432x288 with 1 Axes>"
      ]
     },
     "metadata": {},
     "output_type": "display_data"
    }
   ],
   "source": [
    "CART = DecisionTreeClassifier()\n",
    "\n",
    "CART.fit(train_features, train_response)\n",
    "\n",
    "y_pred = CART.predict(test_features)\n",
    "model_eval(test_response, y_pred)\n",
    "\n",
    "plot_roc_curve(CART, test_features, test_response)\n",
    "\n",
    "# cross_validation(CART, features, response, 5)"
   ]
  },
  {
   "cell_type": "markdown",
   "metadata": {},
   "source": [
    "## Random Forest"
   ]
  },
  {
   "cell_type": "code",
   "execution_count": 11,
   "metadata": {},
   "outputs": [
    {
     "name": "stdout",
     "output_type": "stream",
     "text": [
      "\n",
      "\n",
      "CONFUSION MATRIX (predicted along top, actual along side): \n"
     ]
    },
    {
     "data": {
      "text/html": [
       "<div>\n",
       "<style scoped>\n",
       "    .dataframe tbody tr th:only-of-type {\n",
       "        vertical-align: middle;\n",
       "    }\n",
       "\n",
       "    .dataframe tbody tr th {\n",
       "        vertical-align: top;\n",
       "    }\n",
       "\n",
       "    .dataframe thead th {\n",
       "        text-align: right;\n",
       "    }\n",
       "</style>\n",
       "<table border=\"1\" class=\"dataframe\">\n",
       "  <thead>\n",
       "    <tr style=\"text-align: right;\">\n",
       "      <th></th>\n",
       "      <th>Order Fail</th>\n",
       "      <th>Order Success</th>\n",
       "    </tr>\n",
       "  </thead>\n",
       "  <tbody>\n",
       "    <tr>\n",
       "      <th>Order Fail</th>\n",
       "      <td>133123</td>\n",
       "      <td>26863</td>\n",
       "    </tr>\n",
       "    <tr>\n",
       "      <th>Order Success</th>\n",
       "      <td>1282</td>\n",
       "      <td>7163</td>\n",
       "    </tr>\n",
       "  </tbody>\n",
       "</table>\n",
       "</div>"
      ],
      "text/plain": [
       "               Order Fail  Order Success\n",
       "Order Fail         133123          26863\n",
       "Order Success        1282           7163"
      ]
     },
     "metadata": {},
     "output_type": "display_data"
    },
    {
     "name": "stdout",
     "output_type": "stream",
     "text": [
      "\n",
      "\n",
      "               precision    recall  f1-score   support\n",
      "\n",
      "   Order Fail       0.99      0.83      0.90    159986\n",
      "Order Success       0.21      0.85      0.34      8445\n",
      "\n",
      "  avg / total       0.95      0.83      0.88    168431\n",
      "\n",
      "AUC: 0.917\n"
     ]
    },
    {
     "data": {
      "image/png": "[encoded data removed]",
      "text/plain": [
       "<Figure size 432x288 with 1 Axes>"
      ]
     },
     "metadata": {},
     "output_type": "display_data"
    }
   ],
   "source": [
    "RF = RandomForestClassifier()\n",
    "\n",
    "RF.fit(train_features, train_response)\n",
    "\n",
    "y_pred = RF.predict(test_features)\n",
    "model_eval(test_response, y_pred)\n",
    "\n",
    "plot_roc_curve(RF, test_features, test_response)\n",
    "\n",
    "# cross_validation(RF, features, response, 5)"
   ]
  },
  {
   "cell_type": "markdown",
   "metadata": {},
   "source": [
    "## Tune Random Forest Params with Randomized Grid Search"
   ]
  },
  {
   "cell_type": "code",
   "execution_count": 15,
   "metadata": {},
   "outputs": [
    {
     "name": "stdout",
     "output_type": "stream",
     "text": [
      "{'bootstrap': [True, False],\n",
      " 'max_depth': [10, 20, 30, 40, 50, 60, 70, 80, 90, 100, None],\n",
      " 'max_features': ['auto', 'log2', None],\n",
      " 'min_samples_leaf': [1, 2, 4],\n",
      " 'min_samples_split': [2, 5, 10, 15],\n",
      " 'n_estimators': [50, 100, 200, 400]}\n"
     ]
    }
   ],
   "source": [
    "# import numpy as np\n",
    "# from pprint import pprint\n",
    "# from sklearn.model_selection import RandomizedSearchCV\n",
    "\n",
    "# n_estimators = [50, 100, 200, 400] # Number of trees in random forest\n",
    "# max_features = ['auto', 'log2', None] # Number of features to consider at every split  #'auto' = sqrt(n_features)\n",
    "# max_depth = [int(x) for x in np.linspace(10, 100, num = 10)] # Maximum number of levels in tree\n",
    "# max_depth.append(None)\n",
    "# min_samples_split = [2, 5, 10, 15] # Minimum number of samples required to split a node\n",
    "# min_samples_leaf = [1, 2, 4] # Minimum number of samples required at each leaf node\n",
    "# bootstrap = [True, False] # Method of selecting samples for training each tree\n",
    "\n",
    "# random_grid = {'n_estimators': n_estimators,\n",
    "#                'max_features': max_features,\n",
    "#                'max_depth': max_depth,\n",
    "#                'min_samples_split': min_samples_split,\n",
    "#                'min_samples_leaf': min_samples_leaf,\n",
    "#                'bootstrap': bootstrap}\n",
    "# pprint(random_grid)"
   ]
  },
  {
   "cell_type": "code",
   "execution_count": 16,
   "metadata": {},
   "outputs": [
    {
     "name": "stdout",
     "output_type": "stream",
     "text": [
      "Fitting 3 folds for each of 150 candidates, totalling 450 fits\n"
     ]
    },
    {
     "name": "stderr",
     "output_type": "stream",
     "text": [
      "[Parallel(n_jobs=-1)]: Done  25 tasks      | elapsed:  4.2min\n",
      "[Parallel(n_jobs=-1)]: Done 146 tasks      | elapsed: 30.5min\n",
      "[Parallel(n_jobs=-1)]: Done 349 tasks      | elapsed: 68.7min\n",
      "[Parallel(n_jobs=-1)]: Done 450 out of 450 | elapsed: 84.6min finished\n"
     ]
    },
    {
     "data": {
      "text/plain": [
       "{'n_estimators': 400,\n",
       " 'min_samples_split': 5,\n",
       " 'min_samples_leaf': 1,\n",
       " 'max_features': 'auto',\n",
       " 'max_depth': 20,\n",
       " 'bootstrap': False}"
      ]
     },
     "execution_count": 16,
     "metadata": {},
     "output_type": "execute_result"
    }
   ],
   "source": [
    "# RF = RandomForestClassifier()\n",
    "\n",
    "# # the metric used to select the best parameters\n",
    "# # f2_score = make_scorer(fbeta_score, beta=1, pos_label=1) #beta = 1 (focus on f1 score), pos_label = 1 (focus on the 1 class)\n",
    "\n",
    "# rf_random = RandomizedSearchCV(estimator = RF, param_distributions = random_grid, n_iter = 150, \n",
    "#                                cv = 3, verbose=2, scoring=\"f1_macro\", random_state=42, n_jobs = -1)\n",
    "\n",
    "# rf_random.fit(train_features, train_response)\n",
    "# rf_random.best_params_\n",
    "\n",
    "# # best params with cv=4, iterations=150\n",
    "# # {'n_estimators': 400,\n",
    "# #  'min_samples_split': 10,\n",
    "# #  'min_samples_leaf': 1,\n",
    "# #  'max_features': 'log2',\n",
    "# #  'max_depth': 60,\n",
    "# #  'bootstrap': False}"
   ]
  },
  {
   "cell_type": "code",
   "execution_count": null,
   "metadata": {},
   "outputs": [],
   "source": [
    "# RF_tuned = RandomForestClassifier(n_estimators=400, min_samples_split=5, min_samples_leaf=1,\n",
    "#                            max_features='auto', max_depth=20, bootstrap=False)\n",
    "\n",
    "# RF_tuned.fit(train_features, train_response)\n",
    "\n",
    "# y_pred = RF_tuned.predict(test_features)\n",
    "# model_eval(test_response, y_pred)\n",
    "\n",
    "# plot_roc_curve(RF_tuned, test_features, test_response)"
   ]
  },
  {
   "cell_type": "markdown",
   "metadata": {},
   "source": [
    "## Tune Random Forest Params with Grid Search (too slow)"
   ]
  },
  {
   "cell_type": "code",
   "execution_count": null,
   "metadata": {},
   "outputs": [
    {
     "name": "stdout",
     "output_type": "stream",
     "text": [
      "Fitting 3 folds for each of 81 candidates, totalling 243 fits\n"
     ]
    },
    {
     "name": "stderr",
     "output_type": "stream",
     "text": [
      "[Parallel(n_jobs=-1)]: Done  25 tasks      | elapsed: 50.0min\n",
      "[Parallel(n_jobs=-1)]: Done 146 tasks      | elapsed: 259.4min\n"
     ]
    }
   ],
   "source": [
    "# # narrow down range of considered parameters given by RandomizedSearchCV, then conduct grid search\n",
    "# parameters = {\n",
    "#     'bootstrap': [False],\n",
    "#     'max_depth': [80, 90, 100],\n",
    "#     'max_features': ['log2'],\n",
    "#     'min_samples_leaf': [1, 2, 4],\n",
    "#     'min_samples_split': [2, 3, 4],\n",
    "#     'n_estimators': [300, 400, 500]\n",
    "# }\n",
    "# RF = RandomForestClassifier()\n",
    "\n",
    "# # the metric used to select the best parameters\n",
    "# f2_score = make_scorer(fbeta_score, beta=1, pos_label=1) #beta = 1 (focus on f1 score), pos_label = 1 (focus on the 1 class)\n",
    "# # metric =  \"f1_macro\"\n",
    "\n",
    "# # apply cross validation and exhaustively search for best parameters\n",
    "# gs_clf = GridSearchCV(RF, param_grid=parameters, scoring=f2_score, cv=3, verbose=2, n_jobs=-1).fit(features, response)\n",
    "\n",
    "# print('Optimal hyperparameters given by grid search:')\n",
    "# for param_name in gs_clf.best_params_:\n",
    "#     print(param_name, gs_clf.best_params_[param_name])\n",
    "\n",
    "# print(\"best f1 score:\", gs_clf.best_score_)"
   ]
  },
  {
   "cell_type": "markdown",
   "metadata": {},
   "source": [
    "## Naive Bayes"
   ]
  },
  {
   "cell_type": "code",
   "execution_count": 12,
   "metadata": {},
   "outputs": [
    {
     "name": "stdout",
     "output_type": "stream",
     "text": [
      "\n",
      "\n",
      "CONFUSION MATRIX (predicted along top, actual along side): \n"
     ]
    },
    {
     "data": {
      "text/html": [
       "<div>\n",
       "<style scoped>\n",
       "    .dataframe tbody tr th:only-of-type {\n",
       "        vertical-align: middle;\n",
       "    }\n",
       "\n",
       "    .dataframe tbody tr th {\n",
       "        vertical-align: top;\n",
       "    }\n",
       "\n",
       "    .dataframe thead th {\n",
       "        text-align: right;\n",
       "    }\n",
       "</style>\n",
       "<table border=\"1\" class=\"dataframe\">\n",
       "  <thead>\n",
       "    <tr style=\"text-align: right;\">\n",
       "      <th></th>\n",
       "      <th>Order Fail</th>\n",
       "      <th>Order Success</th>\n",
       "    </tr>\n",
       "  </thead>\n",
       "  <tbody>\n",
       "    <tr>\n",
       "      <th>Order Fail</th>\n",
       "      <td>145419</td>\n",
       "      <td>14567</td>\n",
       "    </tr>\n",
       "    <tr>\n",
       "      <th>Order Success</th>\n",
       "      <td>6561</td>\n",
       "      <td>1884</td>\n",
       "    </tr>\n",
       "  </tbody>\n",
       "</table>\n",
       "</div>"
      ],
      "text/plain": [
       "               Order Fail  Order Success\n",
       "Order Fail         145419          14567\n",
       "Order Success        6561           1884"
      ]
     },
     "metadata": {},
     "output_type": "display_data"
    },
    {
     "name": "stdout",
     "output_type": "stream",
     "text": [
      "\n",
      "\n",
      "               precision    recall  f1-score   support\n",
      "\n",
      "   Order Fail       0.96      0.91      0.93    159986\n",
      "Order Success       0.11      0.22      0.15      8445\n",
      "\n",
      "  avg / total       0.91      0.87      0.89    168431\n",
      "\n",
      "AUC: 0.566\n"
     ]
    },
    {
     "data": {
      "image/png": "[encoded data removed]",
      "text/plain": [
       "<Figure size 432x288 with 1 Axes>"
      ]
     },
     "metadata": {},
     "output_type": "display_data"
    }
   ],
   "source": [
    "from sklearn.naive_bayes import MultinomialNB\n",
    "\n",
    "NB = MultinomialNB().fit(train_features, train_response)\n",
    "y_pred = NB.predict(test_features)\n",
    "model_eval(test_response, y_pred)\n",
    "\n",
    "plot_roc_curve(NB, test_features, test_response)"
   ]
  },
  {
   "cell_type": "markdown",
   "metadata": {},
   "source": [
    "## Neural Network"
   ]
  },
  {
   "cell_type": "code",
   "execution_count": 13,
   "metadata": {},
   "outputs": [
    {
     "name": "stdout",
     "output_type": "stream",
     "text": [
      "\n",
      "\n",
      "CONFUSION MATRIX (predicted along top, actual along side): \n"
     ]
    },
    {
     "data": {
      "text/html": [
       "<div>\n",
       "<style scoped>\n",
       "    .dataframe tbody tr th:only-of-type {\n",
       "        vertical-align: middle;\n",
       "    }\n",
       "\n",
       "    .dataframe tbody tr th {\n",
       "        vertical-align: top;\n",
       "    }\n",
       "\n",
       "    .dataframe thead th {\n",
       "        text-align: right;\n",
       "    }\n",
       "</style>\n",
       "<table border=\"1\" class=\"dataframe\">\n",
       "  <thead>\n",
       "    <tr style=\"text-align: right;\">\n",
       "      <th></th>\n",
       "      <th>Order Fail</th>\n",
       "      <th>Order Success</th>\n",
       "    </tr>\n",
       "  </thead>\n",
       "  <tbody>\n",
       "    <tr>\n",
       "      <th>Order Fail</th>\n",
       "      <td>128048</td>\n",
       "      <td>31938</td>\n",
       "    </tr>\n",
       "    <tr>\n",
       "      <th>Order Success</th>\n",
       "      <td>1345</td>\n",
       "      <td>7100</td>\n",
       "    </tr>\n",
       "  </tbody>\n",
       "</table>\n",
       "</div>"
      ],
      "text/plain": [
       "               Order Fail  Order Success\n",
       "Order Fail         128048          31938\n",
       "Order Success        1345           7100"
      ]
     },
     "metadata": {},
     "output_type": "display_data"
    },
    {
     "name": "stdout",
     "output_type": "stream",
     "text": [
      "\n",
      "\n",
      "               precision    recall  f1-score   support\n",
      "\n",
      "   Order Fail       0.99      0.80      0.88    159986\n",
      "Order Success       0.18      0.84      0.30      8445\n",
      "\n",
      "  avg / total       0.95      0.80      0.86    168431\n",
      "\n"
     ]
    }
   ],
   "source": [
    "ANN = MLPClassifier()\n",
    "ANN.fit(train_features_Z, train_response_Z)\n",
    "y_pred = ANN.predict(test_features_Z)\n",
    "model_eval(test_response_Z, y_pred)"
   ]
  },
  {
   "cell_type": "markdown",
   "metadata": {},
   "source": [
    "## Linear SVC"
   ]
  },
  {
   "cell_type": "code",
   "execution_count": 17,
   "metadata": {},
   "outputs": [
    {
     "name": "stdout",
     "output_type": "stream",
     "text": [
      "\n",
      "\n",
      "CONFUSION MATRIX (predicted along top, actual along side): \n"
     ]
    },
    {
     "data": {
      "text/html": [
       "<div>\n",
       "<style scoped>\n",
       "    .dataframe tbody tr th:only-of-type {\n",
       "        vertical-align: middle;\n",
       "    }\n",
       "\n",
       "    .dataframe tbody tr th {\n",
       "        vertical-align: top;\n",
       "    }\n",
       "\n",
       "    .dataframe thead th {\n",
       "        text-align: right;\n",
       "    }\n",
       "</style>\n",
       "<table border=\"1\" class=\"dataframe\">\n",
       "  <thead>\n",
       "    <tr style=\"text-align: right;\">\n",
       "      <th></th>\n",
       "      <th>Order Fail</th>\n",
       "      <th>Order Success</th>\n",
       "    </tr>\n",
       "  </thead>\n",
       "  <tbody>\n",
       "    <tr>\n",
       "      <th>Order Fail</th>\n",
       "      <td>158303</td>\n",
       "      <td>1683</td>\n",
       "    </tr>\n",
       "    <tr>\n",
       "      <th>Order Success</th>\n",
       "      <td>8295</td>\n",
       "      <td>150</td>\n",
       "    </tr>\n",
       "  </tbody>\n",
       "</table>\n",
       "</div>"
      ],
      "text/plain": [
       "               Order Fail  Order Success\n",
       "Order Fail         158303           1683\n",
       "Order Success        8295            150"
      ]
     },
     "metadata": {},
     "output_type": "display_data"
    },
    {
     "name": "stdout",
     "output_type": "stream",
     "text": [
      "\n",
      "\n",
      "               precision    recall  f1-score   support\n",
      "\n",
      "   Order Fail       0.95      0.99      0.97    159986\n",
      "Order Success       0.08      0.02      0.03      8445\n",
      "\n",
      "  avg / total       0.91      0.94      0.92    168431\n",
      "\n"
     ]
    }
   ],
   "source": [
    "SVC = svm.LinearSVC()\n",
    "SVC.fit(train_features, train_response)\n",
    "y_pred = SVC.predict(test_features)\n",
    "model_eval(test_response, y_pred)"
   ]
  },
  {
   "cell_type": "markdown",
   "metadata": {},
   "source": [
    "# AdaBoost Models"
   ]
  },
  {
   "cell_type": "markdown",
   "metadata": {},
   "source": [
    "### Boosted Random Forest"
   ]
  },
  {
   "cell_type": "code",
   "execution_count": 15,
   "metadata": {},
   "outputs": [
    {
     "name": "stdout",
     "output_type": "stream",
     "text": [
      "\n",
      "\n",
      "CONFUSION MATRIX (predicted along top, actual along side): \n"
     ]
    },
    {
     "data": {
      "text/html": [
       "<div>\n",
       "<style scoped>\n",
       "    .dataframe tbody tr th:only-of-type {\n",
       "        vertical-align: middle;\n",
       "    }\n",
       "\n",
       "    .dataframe tbody tr th {\n",
       "        vertical-align: top;\n",
       "    }\n",
       "\n",
       "    .dataframe thead th {\n",
       "        text-align: right;\n",
       "    }\n",
       "</style>\n",
       "<table border=\"1\" class=\"dataframe\">\n",
       "  <thead>\n",
       "    <tr style=\"text-align: right;\">\n",
       "      <th></th>\n",
       "      <th>Order Fail</th>\n",
       "      <th>Order Success</th>\n",
       "    </tr>\n",
       "  </thead>\n",
       "  <tbody>\n",
       "    <tr>\n",
       "      <th>Order Fail</th>\n",
       "      <td>129596</td>\n",
       "      <td>30390</td>\n",
       "    </tr>\n",
       "    <tr>\n",
       "      <th>Order Success</th>\n",
       "      <td>1094</td>\n",
       "      <td>7351</td>\n",
       "    </tr>\n",
       "  </tbody>\n",
       "</table>\n",
       "</div>"
      ],
      "text/plain": [
       "               Order Fail  Order Success\n",
       "Order Fail         129596          30390\n",
       "Order Success        1094           7351"
      ]
     },
     "metadata": {},
     "output_type": "display_data"
    },
    {
     "name": "stdout",
     "output_type": "stream",
     "text": [
      "\n",
      "\n",
      "               precision    recall  f1-score   support\n",
      "\n",
      "   Order Fail       0.99      0.81      0.89    159986\n",
      "Order Success       0.19      0.87      0.32      8445\n",
      "\n",
      "  avg / total       0.95      0.81      0.86    168431\n",
      "\n"
     ]
    }
   ],
   "source": [
    "AB = AdaBoostClassifier(RandomForestClassifier())\n",
    "AB.fit(train_features, train_response)\n",
    "y_pred = AB.predict(test_features)\n",
    "model_eval(test_response, y_pred)"
   ]
  },
  {
   "cell_type": "markdown",
   "metadata": {},
   "source": [
    "### Boosted Linear SVC"
   ]
  },
  {
   "cell_type": "code",
   "execution_count": 16,
   "metadata": {},
   "outputs": [
    {
     "name": "stdout",
     "output_type": "stream",
     "text": [
      "\n",
      "\n",
      "CONFUSION MATRIX (predicted along top, actual along side): \n"
     ]
    },
    {
     "data": {
      "text/html": [
       "<div>\n",
       "<style scoped>\n",
       "    .dataframe tbody tr th:only-of-type {\n",
       "        vertical-align: middle;\n",
       "    }\n",
       "\n",
       "    .dataframe tbody tr th {\n",
       "        vertical-align: top;\n",
       "    }\n",
       "\n",
       "    .dataframe thead th {\n",
       "        text-align: right;\n",
       "    }\n",
       "</style>\n",
       "<table border=\"1\" class=\"dataframe\">\n",
       "  <thead>\n",
       "    <tr style=\"text-align: right;\">\n",
       "      <th></th>\n",
       "      <th>Order Fail</th>\n",
       "      <th>Order Success</th>\n",
       "    </tr>\n",
       "  </thead>\n",
       "  <tbody>\n",
       "    <tr>\n",
       "      <th>Order Fail</th>\n",
       "      <td>155614</td>\n",
       "      <td>4372</td>\n",
       "    </tr>\n",
       "    <tr>\n",
       "      <th>Order Success</th>\n",
       "      <td>7901</td>\n",
       "      <td>544</td>\n",
       "    </tr>\n",
       "  </tbody>\n",
       "</table>\n",
       "</div>"
      ],
      "text/plain": [
       "               Order Fail  Order Success\n",
       "Order Fail         155614           4372\n",
       "Order Success        7901            544"
      ]
     },
     "metadata": {},
     "output_type": "display_data"
    },
    {
     "name": "stdout",
     "output_type": "stream",
     "text": [
      "\n",
      "\n",
      "               precision    recall  f1-score   support\n",
      "\n",
      "   Order Fail       0.95      0.97      0.96    159986\n",
      "Order Success       0.11      0.06      0.08      8445\n",
      "\n",
      "  avg / total       0.91      0.93      0.92    168431\n",
      "\n"
     ]
    }
   ],
   "source": [
    "AB = AdaBoostClassifier(svm.LinearSVC(), algorithm='SAMME')\n",
    "AB.fit(train_features, train_response)\n",
    "y_pred = AB.predict(test_features)\n",
    "model_eval(test_response, y_pred)"
   ]
  },
  {
   "cell_type": "markdown",
   "metadata": {},
   "source": [
    "### ANN cannot be boosted with AdaBoost"
   ]
  },
  {
   "cell_type": "markdown",
   "metadata": {},
   "source": [
    "### Boosted Naive Bayes"
   ]
  },
  {
   "cell_type": "code",
   "execution_count": 91,
   "metadata": {},
   "outputs": [
    {
     "name": "stdout",
     "output_type": "stream",
     "text": [
      "\n",
      "\n",
      "CONFUSION MATRIX (predicted along top, actual along side): \n"
     ]
    },
    {
     "data": {
      "text/html": [
       "<div>\n",
       "<style scoped>\n",
       "    .dataframe tbody tr th:only-of-type {\n",
       "        vertical-align: middle;\n",
       "    }\n",
       "\n",
       "    .dataframe tbody tr th {\n",
       "        vertical-align: top;\n",
       "    }\n",
       "\n",
       "    .dataframe thead th {\n",
       "        text-align: right;\n",
       "    }\n",
       "</style>\n",
       "<table border=\"1\" class=\"dataframe\">\n",
       "  <thead>\n",
       "    <tr style=\"text-align: right;\">\n",
       "      <th></th>\n",
       "      <th>Order Fail</th>\n",
       "      <th>Order Success</th>\n",
       "    </tr>\n",
       "  </thead>\n",
       "  <tbody>\n",
       "    <tr>\n",
       "      <th>Order Fail</th>\n",
       "      <td>150099</td>\n",
       "      <td>9897</td>\n",
       "    </tr>\n",
       "    <tr>\n",
       "      <th>Order Success</th>\n",
       "      <td>7648</td>\n",
       "      <td>787</td>\n",
       "    </tr>\n",
       "  </tbody>\n",
       "</table>\n",
       "</div>"
      ],
      "text/plain": [
       "               Order Fail  Order Success\n",
       "Order Fail         150099           9897\n",
       "Order Success        7648            787"
      ]
     },
     "metadata": {},
     "output_type": "display_data"
    },
    {
     "name": "stdout",
     "output_type": "stream",
     "text": [
      "\n",
      "\n",
      "               precision    recall  f1-score   support\n",
      "\n",
      "   Order Fail       0.95      0.94      0.94    159996\n",
      "Order Success       0.07      0.09      0.08      8435\n",
      "\n",
      "  avg / total       0.91      0.90      0.90    168431\n",
      "\n"
     ]
    }
   ],
   "source": [
    "AB = AdaBoostClassifier(MultinomialNB())\n",
    "AB.fit(train_features, train_response)\n",
    "y_pred = AB.predict(test_features)\n",
    "model_eval(test_response, y_pred)"
   ]
  },
  {
   "cell_type": "markdown",
   "metadata": {},
   "source": [
    "### Boosted Logistic Regression"
   ]
  },
  {
   "cell_type": "code",
   "execution_count": 92,
   "metadata": {},
   "outputs": [
    {
     "name": "stdout",
     "output_type": "stream",
     "text": [
      "\n",
      "\n",
      "CONFUSION MATRIX (predicted along top, actual along side): \n"
     ]
    },
    {
     "data": {
      "text/html": [
       "<div>\n",
       "<style scoped>\n",
       "    .dataframe tbody tr th:only-of-type {\n",
       "        vertical-align: middle;\n",
       "    }\n",
       "\n",
       "    .dataframe tbody tr th {\n",
       "        vertical-align: top;\n",
       "    }\n",
       "\n",
       "    .dataframe thead th {\n",
       "        text-align: right;\n",
       "    }\n",
       "</style>\n",
       "<table border=\"1\" class=\"dataframe\">\n",
       "  <thead>\n",
       "    <tr style=\"text-align: right;\">\n",
       "      <th></th>\n",
       "      <th>Order Fail</th>\n",
       "      <th>Order Success</th>\n",
       "    </tr>\n",
       "  </thead>\n",
       "  <tbody>\n",
       "    <tr>\n",
       "      <th>Order Fail</th>\n",
       "      <td>116053</td>\n",
       "      <td>43943</td>\n",
       "    </tr>\n",
       "    <tr>\n",
       "      <th>Order Success</th>\n",
       "      <td>1818</td>\n",
       "      <td>6617</td>\n",
       "    </tr>\n",
       "  </tbody>\n",
       "</table>\n",
       "</div>"
      ],
      "text/plain": [
       "               Order Fail  Order Success\n",
       "Order Fail         116053          43943\n",
       "Order Success        1818           6617"
      ]
     },
     "metadata": {},
     "output_type": "display_data"
    },
    {
     "name": "stdout",
     "output_type": "stream",
     "text": [
      "\n",
      "\n",
      "               precision    recall  f1-score   support\n",
      "\n",
      "   Order Fail       0.98      0.73      0.84    159996\n",
      "Order Success       0.13      0.78      0.22      8435\n",
      "\n",
      "  avg / total       0.94      0.73      0.80    168431\n",
      "\n"
     ]
    }
   ],
   "source": [
    "AB = AdaBoostClassifier(LogisticRegression())\n",
    "AB.fit(train_features, train_response)\n",
    "y_pred = AB.predict(test_features)\n",
    "model_eval(test_response, y_pred)"
   ]
  }
 ],
 "metadata": {
  "kernelspec": {
   "display_name": "Python 3",
   "language": "python",
   "name": "python3"
  },
  "language_info": {
   "codemirror_mode": {
    "name": "ipython",
    "version": 3
   },
   "file_extension": ".py",
   "mimetype": "text/x-python",
   "name": "python",
   "nbconvert_exporter": "python",
   "pygments_lexer": "ipython3",
   "version": "3.6.5"
  }
 },
 "nbformat": 4,
 "nbformat_minor": 2
}
